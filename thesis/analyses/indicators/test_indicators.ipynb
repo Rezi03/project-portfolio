{
 "cells": [
  {
   "cell_type": "markdown",
   "id": "1f71db47-7179-412d-aa6a-d9310a8de470",
   "metadata": {},
   "source": [
    "# Importer le CSV"
   ]
  },
  {
   "cell_type": "code",
   "execution_count": 1,
   "id": "fa74ae14-5c72-40b6-8def-8eb12b58231d",
   "metadata": {},
   "outputs": [],
   "source": [
    "# Librairies de base\n",
    "import pandas as pd\n",
    "import numpy as np\n",
    "import matplotlib.pyplot as plt"
   ]
  },
  {
   "cell_type": "code",
   "execution_count": 118,
   "id": "d84e0108-0eba-4641-9681-de650390526d",
   "metadata": {},
   "outputs": [
    {
     "data": {
      "text/html": [
       "<div>\n",
       "<style scoped>\n",
       "    .dataframe tbody tr th:only-of-type {\n",
       "        vertical-align: middle;\n",
       "    }\n",
       "\n",
       "    .dataframe tbody tr th {\n",
       "        vertical-align: top;\n",
       "    }\n",
       "\n",
       "    .dataframe thead th {\n",
       "        text-align: right;\n",
       "    }\n",
       "</style>\n",
       "<table border=\"1\" class=\"dataframe\">\n",
       "  <thead>\n",
       "    <tr style=\"text-align: right;\">\n",
       "      <th></th>\n",
       "      <th>idVisit</th>\n",
       "      <th>visitorId</th>\n",
       "      <th>fingerprint</th>\n",
       "      <th>type (actionDetails 0)</th>\n",
       "      <th>url (actionDetails 0)</th>\n",
       "      <th>pageTitle (actionDetails 0)</th>\n",
       "      <th>pageIdAction (actionDetails 0)</th>\n",
       "      <th>idpageview (actionDetails 0)</th>\n",
       "      <th>serverTimePretty (actionDetails 0)</th>\n",
       "      <th>pageId (actionDetails 0)</th>\n",
       "      <th>...</th>\n",
       "      <th>revenueSubTotal (actionDetails 32)</th>\n",
       "      <th>revenueTax (actionDetails 32)</th>\n",
       "      <th>revenueShipping (actionDetails 32)</th>\n",
       "      <th>revenueDiscount (actionDetails 32)</th>\n",
       "      <th>items (actionDetails 32)</th>\n",
       "      <th>productViewPrice (actionDetails 6)</th>\n",
       "      <th>productViewPrice (actionDetails 9)</th>\n",
       "      <th>productViewPrice (actionDetails 17)</th>\n",
       "      <th>productViewPrice (actionDetails 0)</th>\n",
       "      <th>productViewPrice (actionDetails 8)</th>\n",
       "    </tr>\n",
       "  </thead>\n",
       "  <tbody>\n",
       "    <tr>\n",
       "      <th>0</th>\n",
       "      <td>2143</td>\n",
       "      <td>7ffb5e14a0ae6e4d</td>\n",
       "      <td>e6167018f5abd82e</td>\n",
       "      <td>action</td>\n",
       "      <td>https://educapacites.fr/447-2/</td>\n",
       "      <td>Concentration | Éducapacités</td>\n",
       "      <td>6</td>\n",
       "      <td>lZ8BSi</td>\n",
       "      <td>30 sept. 2024 22:28:13</td>\n",
       "      <td>7887</td>\n",
       "      <td>...</td>\n",
       "      <td>NaN</td>\n",
       "      <td>NaN</td>\n",
       "      <td>NaN</td>\n",
       "      <td>NaN</td>\n",
       "      <td>NaN</td>\n",
       "      <td>NaN</td>\n",
       "      <td>NaN</td>\n",
       "      <td>NaN</td>\n",
       "      <td>NaN</td>\n",
       "      <td>NaN</td>\n",
       "    </tr>\n",
       "    <tr>\n",
       "      <th>1</th>\n",
       "      <td>2142</td>\n",
       "      <td>014c2c3d42c4eb72</td>\n",
       "      <td>333d9ccae11a3eb6</td>\n",
       "      <td>action</td>\n",
       "      <td>https://educapacites.fr/</td>\n",
       "      <td>Éducapacités | Pour ton bien-être émotionnel, ...</td>\n",
       "      <td>2</td>\n",
       "      <td>PVoZYy</td>\n",
       "      <td>30 sept. 2024 20:29:06</td>\n",
       "      <td>7884</td>\n",
       "      <td>...</td>\n",
       "      <td>NaN</td>\n",
       "      <td>NaN</td>\n",
       "      <td>NaN</td>\n",
       "      <td>NaN</td>\n",
       "      <td>NaN</td>\n",
       "      <td>NaN</td>\n",
       "      <td>NaN</td>\n",
       "      <td>NaN</td>\n",
       "      <td>NaN</td>\n",
       "      <td>NaN</td>\n",
       "    </tr>\n",
       "    <tr>\n",
       "      <th>2</th>\n",
       "      <td>2141</td>\n",
       "      <td>a6fbcefff5113692</td>\n",
       "      <td>ef3d594bc6dded43</td>\n",
       "      <td>action</td>\n",
       "      <td>https://educapacites.fr/</td>\n",
       "      <td>Éducapacités | Pour ton bien-être émotionnel, ...</td>\n",
       "      <td>2</td>\n",
       "      <td>xCTaDo</td>\n",
       "      <td>30 sept. 2024 18:23:12</td>\n",
       "      <td>7883</td>\n",
       "      <td>...</td>\n",
       "      <td>NaN</td>\n",
       "      <td>NaN</td>\n",
       "      <td>NaN</td>\n",
       "      <td>NaN</td>\n",
       "      <td>NaN</td>\n",
       "      <td>NaN</td>\n",
       "      <td>NaN</td>\n",
       "      <td>NaN</td>\n",
       "      <td>NaN</td>\n",
       "      <td>NaN</td>\n",
       "    </tr>\n",
       "    <tr>\n",
       "      <th>3</th>\n",
       "      <td>2140</td>\n",
       "      <td>c59617c719e24e0c</td>\n",
       "      <td>e88f1ffd961857b8</td>\n",
       "      <td>action</td>\n",
       "      <td>https://educapacites.fr/</td>\n",
       "      <td>Éducapacités | Pour ton bien-être émotionnel, ...</td>\n",
       "      <td>2</td>\n",
       "      <td>E4U9UW</td>\n",
       "      <td>30 sept. 2024 18:09:58</td>\n",
       "      <td>7882</td>\n",
       "      <td>...</td>\n",
       "      <td>NaN</td>\n",
       "      <td>NaN</td>\n",
       "      <td>NaN</td>\n",
       "      <td>NaN</td>\n",
       "      <td>NaN</td>\n",
       "      <td>NaN</td>\n",
       "      <td>NaN</td>\n",
       "      <td>NaN</td>\n",
       "      <td>NaN</td>\n",
       "      <td>NaN</td>\n",
       "    </tr>\n",
       "    <tr>\n",
       "      <th>4</th>\n",
       "      <td>2138</td>\n",
       "      <td>5f3f8420f61bfd55</td>\n",
       "      <td>badfe6a9b403694f</td>\n",
       "      <td>action</td>\n",
       "      <td>https://educapacites.fr/mon-espace/</td>\n",
       "      <td>Mon espace | Éducapacités</td>\n",
       "      <td>95</td>\n",
       "      <td>Gf4cQZ</td>\n",
       "      <td>30 sept. 2024 14:39:48</td>\n",
       "      <td>7866</td>\n",
       "      <td>...</td>\n",
       "      <td>NaN</td>\n",
       "      <td>NaN</td>\n",
       "      <td>NaN</td>\n",
       "      <td>NaN</td>\n",
       "      <td>NaN</td>\n",
       "      <td>NaN</td>\n",
       "      <td>NaN</td>\n",
       "      <td>NaN</td>\n",
       "      <td>NaN</td>\n",
       "      <td>NaN</td>\n",
       "    </tr>\n",
       "  </tbody>\n",
       "</table>\n",
       "<p>5 rows × 4134 columns</p>\n",
       "</div>"
      ],
      "text/plain": [
       "   idVisit         visitorId       fingerprint type (actionDetails 0)  \\\n",
       "0     2143  7ffb5e14a0ae6e4d  e6167018f5abd82e                 action   \n",
       "1     2142  014c2c3d42c4eb72  333d9ccae11a3eb6                 action   \n",
       "2     2141  a6fbcefff5113692  ef3d594bc6dded43                 action   \n",
       "3     2140  c59617c719e24e0c  e88f1ffd961857b8                 action   \n",
       "4     2138  5f3f8420f61bfd55  badfe6a9b403694f                 action   \n",
       "\n",
       "                 url (actionDetails 0)  \\\n",
       "0       https://educapacites.fr/447-2/   \n",
       "1             https://educapacites.fr/   \n",
       "2             https://educapacites.fr/   \n",
       "3             https://educapacites.fr/   \n",
       "4  https://educapacites.fr/mon-espace/   \n",
       "\n",
       "                         pageTitle (actionDetails 0)  \\\n",
       "0                       Concentration | Éducapacités   \n",
       "1  Éducapacités | Pour ton bien-être émotionnel, ...   \n",
       "2  Éducapacités | Pour ton bien-être émotionnel, ...   \n",
       "3  Éducapacités | Pour ton bien-être émotionnel, ...   \n",
       "4                          Mon espace | Éducapacités   \n",
       "\n",
       "   pageIdAction (actionDetails 0) idpageview (actionDetails 0)  \\\n",
       "0                               6                       lZ8BSi   \n",
       "1                               2                       PVoZYy   \n",
       "2                               2                       xCTaDo   \n",
       "3                               2                       E4U9UW   \n",
       "4                              95                       Gf4cQZ   \n",
       "\n",
       "  serverTimePretty (actionDetails 0)  pageId (actionDetails 0)  ...  \\\n",
       "0             30 sept. 2024 22:28:13                      7887  ...   \n",
       "1             30 sept. 2024 20:29:06                      7884  ...   \n",
       "2             30 sept. 2024 18:23:12                      7883  ...   \n",
       "3             30 sept. 2024 18:09:58                      7882  ...   \n",
       "4             30 sept. 2024 14:39:48                      7866  ...   \n",
       "\n",
       "   revenueSubTotal (actionDetails 32) revenueTax (actionDetails 32)  \\\n",
       "0                                 NaN                           NaN   \n",
       "1                                 NaN                           NaN   \n",
       "2                                 NaN                           NaN   \n",
       "3                                 NaN                           NaN   \n",
       "4                                 NaN                           NaN   \n",
       "\n",
       "   revenueShipping (actionDetails 32) revenueDiscount (actionDetails 32)  \\\n",
       "0                                 NaN                                NaN   \n",
       "1                                 NaN                                NaN   \n",
       "2                                 NaN                                NaN   \n",
       "3                                 NaN                                NaN   \n",
       "4                                 NaN                                NaN   \n",
       "\n",
       "  items (actionDetails 32)  productViewPrice (actionDetails 6)  \\\n",
       "0                      NaN                                 NaN   \n",
       "1                      NaN                                 NaN   \n",
       "2                      NaN                                 NaN   \n",
       "3                      NaN                                 NaN   \n",
       "4                      NaN                                 NaN   \n",
       "\n",
       "  productViewPrice (actionDetails 9)  productViewPrice (actionDetails 17)  \\\n",
       "0                                NaN                                  NaN   \n",
       "1                                NaN                                  NaN   \n",
       "2                                NaN                                  NaN   \n",
       "3                                NaN                                  NaN   \n",
       "4                                NaN                                  NaN   \n",
       "\n",
       "  productViewPrice (actionDetails 0) productViewPrice (actionDetails 8)  \n",
       "0                                NaN                                NaN  \n",
       "1                                NaN                                NaN  \n",
       "2                                NaN                                NaN  \n",
       "3                                NaN                                NaN  \n",
       "4                                NaN                                NaN  \n",
       "\n",
       "[5 rows x 4134 columns]"
      ]
     },
     "execution_count": 118,
     "metadata": {},
     "output_type": "execute_result"
    }
   ],
   "source": [
    "file_path = '~/Desktop/projet_la/bdd/bdd.csv'\n",
    "\n",
    "# Essai avec l'encodage 'latin1'\n",
    "df = pd.read_csv(file_path, sep=';', encoding='UTF-8-SIG', low_memory=False)\n",
    "\n",
    "df.head()"
   ]
  },
  {
   "cell_type": "markdown",
   "id": "fda6bdcc-45ed-4492-832c-f285fee61528",
   "metadata": {},
   "source": [
    "# Calcul des indicateurs"
   ]
  },
  {
   "cell_type": "markdown",
   "id": "7d5ff261-2309-4b53-b6bd-8f310af83e2d",
   "metadata": {},
   "source": [
    "## Taux de conversion visiteurs → utilisateurs"
   ]
  },
  {
   "cell_type": "code",
   "execution_count": 101,
   "id": "0e93b9f3-2d37-43cc-a011-65441c48a15e",
   "metadata": {},
   "outputs": [
    {
     "name": "stdout",
     "output_type": "stream",
     "text": [
      "Taux de conversion visiteurs → utilisateurs : 39.75%\n"
     ]
    },
    {
     "data": {
      "image/png": "[encoded data removed]",
      "text/plain": [
       "<Figure size 800x600 with 1 Axes>"
      ]
     },
     "metadata": {},
     "output_type": "display_data"
    }
   ],
   "source": [
    "# Total de visiteurs uniques\n",
    "nb_visiteurs = df['visitorId'].nunique()\n",
    "\n",
    "# Total d'utilisateurs uniques\n",
    "nb_utilisateurs = df['userId'].nunique()\n",
    "\n",
    "# Taux de conversion\n",
    "T_vu = nb_utilisateurs / nb_visiteurs\n",
    "\n",
    "print(f\"Taux de conversion visiteurs → utilisateurs : {T_vu:.2%}\")\n",
    "\n",
    "# Créer le graphique\n",
    "labels = ['Visiteurs Uniques', 'Utilisateurs Uniques']\n",
    "values = [nb_visiteurs, nb_utilisateurs]\n",
    "\n",
    "plt.figure(figsize=(8, 6))\n",
    "plt.bar(labels, values, color=['blue', 'green'])\n",
    "plt.title('')\n",
    "plt.ylabel('Nombre')\n",
    "plt.xlabel('Catégorie')\n",
    "\n",
    "# Affichage du taux de conversion sur le graphique\n",
    "plt.text(0, nb_visiteurs + (nb_visiteurs * 0.05), f'{nb_visiteurs}', ha='center', fontsize=12)\n",
    "plt.text(1, nb_utilisateurs + (nb_utilisateurs * 0.05), f'{nb_utilisateurs}', ha='center', fontsize=12)\n",
    "plt.text(0.5, max(nb_visiteurs, nb_utilisateurs) + (max(nb_visiteurs, nb_utilisateurs) * 0.1), \n",
    "         f'Taux de conversion: {T_vu:.2%}', ha='center', fontsize=14, color='red')\n",
    "\n",
    "plt.show()"
   ]
  },
  {
   "cell_type": "markdown",
   "id": "d7f6cc9c-8ec0-4cc8-b7bd-84fbf7492401",
   "metadata": {},
   "source": [
    "Le **taux de conversion** mesure la part des visiteurs du site qui sont devenus des utilisateurs enregistrés. Il est calculé en divisant le nombre total d'**utilisateurs uniques** (`userId`) par le nombre total de **visiteurs uniques** (`visitorId`).\n",
    "\n",
    "Pour ces données, le taux de conversion est de **39,75%**, ce qui signifie qu’environ **4 visiteurs sur 10** ont créé un compte."
   ]
  },
  {
   "cell_type": "markdown",
   "id": "f7ea24e6-e5f0-431e-9aa8-b2d7ee791981",
   "metadata": {},
   "source": [
    "## Taux de conversion utilisateurs → clients "
   ]
  },
  {
   "cell_type": "code",
   "execution_count": 105,
   "id": "2abe58ed-de24-4604-87e0-86efcf06c98c",
   "metadata": {},
   "outputs": [
    {
     "name": "stdout",
     "output_type": "stream",
     "text": [
      "Taux de conversion utilisateurs → clients : 10.11%\n"
     ]
    },
    {
     "data": {
      "image/png": "[encoded data removed]",
      "text/plain": [
       "<Figure size 800x600 with 1 Axes>"
      ]
     },
     "metadata": {},
     "output_type": "display_data"
    }
   ],
   "source": [
    "# Total de clients uniques converti\n",
    "nb_clients = df.loc[df['visitConverted'] == 1, 'userId'].nunique()\n",
    "\n",
    "# Taux de conversion\n",
    "T_uc = nb_clients / nb_utilisateurs\n",
    "\n",
    "print(f\"Taux de conversion utilisateurs → clients : {T_uc:.2%}\")\n",
    "\n",
    "# Créer le graphique\n",
    "labels = ['Utilisateurs Uniques', 'Clients Uniques Convertis']\n",
    "values = [nb_utilisateurs, nb_clients]\n",
    "\n",
    "plt.figure(figsize=(8, 6))\n",
    "plt.bar(labels, values, color=['blue', 'orange'])\n",
    "plt.ylabel('Nombre')\n",
    "plt.xlabel('Catégorie')\n",
    "\n",
    "# Affichage\n",
    "plt.text(0, nb_utilisateurs + (nb_utilisateurs * 0.05), f'{nb_utilisateurs}', ha='center', fontsize=12)\n",
    "plt.text(1, nb_clients + (nb_clients * 0.05), f'{nb_clients}', ha='center', fontsize=12)\n",
    "plt.text(0.5, max(nb_utilisateurs, nb_clients) + (max(nb_utilisateurs, nb_clients) * 0.1), \n",
    "         f'Taux de conversion: {T_uc:.2%}', ha='center', fontsize=14, color='red')\n",
    "\n",
    "plt.show()"
   ]
  },
  {
   "cell_type": "markdown",
   "id": "1698a21b-97a1-450b-b826-495601c9b66b",
   "metadata": {},
   "source": [
    "Le **taux de conversion utilisateurs → clients** indique la proportion d'**utilisateurs uniques** qui ont effectué au moins une conversion (achat, souscription, ou autre action définie comme une conversion).  \n",
    "\n",
    "Il est calculé en divisant le nombre total de **clients uniques convertis** (`userId` avec `visitConverted = 1`) par le nombre total d'**utilisateurs uniques**.\n",
    "\n",
    "Pour ce jeu de données, le taux de conversion est de **10,11%**, ce qui signifie qu’environ **1 utilisateur sur 10** est devenu client."
   ]
  },
  {
   "cell_type": "markdown",
   "id": "0122dbc2-e624-4c5a-aea2-e97bceb01495",
   "metadata": {},
   "source": [
    "## Taux de conversion visiteurs → clients "
   ]
  },
  {
   "cell_type": "code",
   "execution_count": 109,
   "id": "254f64de-edca-47f6-a25d-098376007132",
   "metadata": {},
   "outputs": [
    {
     "name": "stdout",
     "output_type": "stream",
     "text": [
      "Taux de conversion visiteurs → clients : 4.02%\n"
     ]
    },
    {
     "data": {
      "image/png": "[encoded data removed]",
      "text/plain": [
       "<Figure size 800x600 with 1 Axes>"
      ]
     },
     "metadata": {},
     "output_type": "display_data"
    }
   ],
   "source": [
    "# Taux de conversion\n",
    "T_vc = nb_clients / nb_visiteurs\n",
    "\n",
    "print(f\"Taux de conversion visiteurs → clients : {T_vc:.2%}\")\n",
    "\n",
    "# Créer le graphique\n",
    "labels = ['Utilisateurs Uniques', 'Clients Uniques Convertis']\n",
    "values = [nb_utilisateurs, nb_clients]\n",
    "\n",
    "plt.figure(figsize=(8, 6))\n",
    "plt.bar(labels, values, color=['blue', 'orange'])\n",
    "plt.ylabel('Nombre')\n",
    "plt.xlabel('Catégorie')\n",
    "\n",
    "# Affichage des valeurs sur les barres\n",
    "plt.text(0, nb_utilisateurs + (nb_utilisateurs * 0.05), f'{nb_utilisateurs}', ha='center', fontsize=12)\n",
    "plt.text(1, nb_clients + (nb_clients * 0.05), f'{nb_clients}', ha='center', fontsize=12)\n",
    "\n",
    "# Affichage du taux de conversion\n",
    "plt.text(0.5, max(nb_utilisateurs, nb_clients) + (max(nb_utilisateurs, nb_clients) * 0.1), \n",
    "         f'Taux de conversion: {T_uc:.2%}', ha='center', fontsize=14, color='red')\n",
    "\n",
    "# Affichage du graphique\n",
    "plt.show()"
   ]
  },
  {
   "cell_type": "markdown",
   "id": "2fd7b76d-1789-4b4b-9bee-c480a88ec4a2",
   "metadata": {},
   "source": [
    "Le **taux de conversion visiteurs → clients** mesure la proportion de **visiteurs uniques** qui ont été jusqu'à réaliser une conversion.  \n",
    "\n",
    "Ce taux est calculé en divisant le nombre total de **clients uniques convertis** par le nombre total de **visiteurs uniques**.\n",
    "\n",
    "Dans notre cas, le taux de conversion est de **4,02%**, ce qui signifie qu'environ **4 visiteurs sur 100** finissent par devenir clients."
   ]
  },
  {
   "cell_type": "markdown",
   "id": "ca505134-7cf4-4e68-9e31-af400f33be5f",
   "metadata": {},
   "source": [
    "## Durée de l'engagement"
   ]
  },
  {
   "cell_type": "code",
   "execution_count": 201,
   "id": "9c5d905a-2a0f-4b6b-9b79-4f8fabf22314",
   "metadata": {},
   "outputs": [
    {
     "name": "stdout",
     "output_type": "stream",
     "text": [
      "4839    3 heures, 15 minutes, 12 secondes\n",
      "964      2 heures, 5 minutes, 19 secondes\n",
      "5970    2 heures, 48 minutes, 40 secondes\n",
      "6833    2 heures, 48 minutes, 40 secondes\n",
      "611     2 heures, 29 minutes, 27 secondes\n",
      "879       1 heures, 9 minutes, 7 secondes\n",
      "2303     1 heures, 8 minutes, 14 secondes\n",
      "164       1 heures, 7 minutes, 8 secondes\n",
      "3402     1 heures, 7 minutes, 47 secondes\n",
      "1669     1 heures, 6 minutes, 35 secondes\n",
      "877      1 heures, 5 minutes, 10 secondes\n",
      "5524    1 heures, 47 minutes, 41 secondes\n",
      "1078     1 heures, 4 minutes, 45 secondes\n",
      "1332    1 heures, 38 minutes, 10 secondes\n",
      "1348    1 heures, 37 minutes, 21 secondes\n",
      "4537    1 heures, 36 minutes, 39 secondes\n",
      "4456    1 heures, 36 minutes, 28 secondes\n",
      "956      1 heures, 35 minutes, 2 secondes\n",
      "108      1 heures, 32 minutes, 3 secondes\n",
      "5351     1 heures, 3 minutes, 51 secondes\n",
      "dtype: object\n"
     ]
    }
   ],
   "source": [
    "# Durée d'engagement en secondes\n",
    "engagementDuration = df['lastActionTimestamp'] - df['firstActionTimestamp']\n",
    "\n",
    "# Convertir en heures, minutes et secondes\n",
    "engagementDurationFormatted = engagementDuration.apply(lambda x: \n",
    "    f\"{(x % 86400) // 3600} heures, {(x % 3600) // 60} minutes, {x % 60} secondes\"\n",
    ")\n",
    "\n",
    "# Trier\n",
    "engagementDurationFormatted = engagementDurationFormatted.sort_values(ascending=False)\n",
    "\n",
    "# Afficher\n",
    "print(engagementDurationFormatted.head(20))"
   ]
  },
  {
   "cell_type": "markdown",
   "id": "c6109925-7cb5-49c3-8f8b-7c97c37fedb8",
   "metadata": {},
   "source": [
    "L'**engagementDuration** représente la durée totale de la période d’activités d’un utilisateur, c'est-à-dire la durée entre le premier et le dernier moment où l'utilisateur a interagi avec le site."
   ]
  },
  {
   "cell_type": "markdown",
   "id": "c3e94467-7491-4f30-b22f-7a15cbe3295b",
   "metadata": {},
   "source": [
    "## Durée de la période de visites"
   ]
  },
  {
   "cell_type": "code",
   "execution_count": 205,
   "id": "eefec7ac-426c-4878-be6d-b8f16a155ea6",
   "metadata": {},
   "outputs": [
    {
     "name": "stdout",
     "output_type": "stream",
     "text": [
      "96        9 heures, 9 minutes, 9 secondes\n",
      "392      9 heures, 9 minutes, 31 secondes\n",
      "3578     9 heures, 7 minutes, 29 secondes\n",
      "5947     9 heures, 7 minutes, 18 secondes\n",
      "6810     9 heures, 7 minutes, 18 secondes\n",
      "2508      9 heures, 6 minutes, 4 secondes\n",
      "4112     9 heures, 59 minutes, 3 secondes\n",
      "4115     9 heures, 59 minutes, 3 secondes\n",
      "1239    9 heures, 56 minutes, 54 secondes\n",
      "1218    9 heures, 56 minutes, 51 secondes\n",
      "6396    9 heures, 56 minutes, 17 secondes\n",
      "1851    9 heures, 55 minutes, 19 secondes\n",
      "3997    9 heures, 54 minutes, 31 secondes\n",
      "3533    9 heures, 53 minutes, 49 secondes\n",
      "2397    9 heures, 53 minutes, 10 secondes\n",
      "4097    9 heures, 51 minutes, 38 secondes\n",
      "3975      9 heures, 5 minutes, 1 secondes\n",
      "4441     9 heures, 49 minutes, 3 secondes\n",
      "5055    9 heures, 43 minutes, 27 secondes\n",
      "7054    9 heures, 43 minutes, 27 secondes\n",
      "dtype: object\n"
     ]
    }
   ],
   "source": [
    "# Durée d'apprentissage en secondes\n",
    "learningDuration = df['secondsSinceFirstVisit'] - df['secondsSinceLastVisit']\n",
    "\n",
    "# Convertir en heures, minutes et secondes\n",
    "learningDurationFormatted = learningDuration.apply(lambda x: \n",
    "    f\"{(x % 86400) // 3600} heures, {(x % 3600) // 60} minutes, {x % 60} secondes\"\n",
    ")\n",
    "\n",
    "# Trier\n",
    "learningDurationFormatted = learningDurationFormatted.sort_values(ascending=False)\n",
    "\n",
    "# Afficher\n",
    "print(learningDurationFormatted.head(20))"
   ]
  },
  {
   "cell_type": "markdown",
   "id": "2a0ec879-de45-4b49-a6f4-5cdedcbb699e",
   "metadata": {},
   "source": [
    "La **learningDuration** représente la durée totale de la période de la période durant laquelle un utilisateur reste actif sur le site. Ce qui peut être perçu comme la période pendant laquelle un utilisateur apprend, explore ou interagit avec le site."
   ]
  },
  {
   "cell_type": "markdown",
   "id": "63eeca93-5ede-40d4-8448-34345d063a05",
   "metadata": {},
   "source": [
    "## Durée d’une visite"
   ]
  },
  {
   "cell_type": "code",
   "execution_count": 156,
   "id": "abcce884-d6ca-4461-8793-5f5f57a0bc2b",
   "metadata": {},
   "outputs": [
    {
     "name": "stdout",
     "output_type": "stream",
     "text": [
      "4839    3 heures, 15 minutes, 13 secondes\n",
      "964      2 heures, 5 minutes, 20 secondes\n",
      "5970    2 heures, 48 minutes, 41 secondes\n",
      "6833    2 heures, 48 minutes, 41 secondes\n",
      "611     2 heures, 29 minutes, 28 secondes\n",
      "879       1 heures, 9 minutes, 8 secondes\n",
      "2303     1 heures, 8 minutes, 15 secondes\n",
      "164       1 heures, 7 minutes, 9 secondes\n",
      "3402     1 heures, 7 minutes, 48 secondes\n",
      "1669     1 heures, 6 minutes, 36 secondes\n",
      "877      1 heures, 5 minutes, 11 secondes\n",
      "5524    1 heures, 47 minutes, 42 secondes\n",
      "1078     1 heures, 4 minutes, 46 secondes\n",
      "1332    1 heures, 38 minutes, 11 secondes\n",
      "1348    1 heures, 37 minutes, 22 secondes\n",
      "4537    1 heures, 36 minutes, 40 secondes\n",
      "4456    1 heures, 36 minutes, 29 secondes\n",
      "956      1 heures, 35 minutes, 3 secondes\n",
      "108      1 heures, 32 minutes, 4 secondes\n",
      "5351     1 heures, 3 minutes, 52 secondes\n",
      "Name: visitDuration, dtype: object\n"
     ]
    }
   ],
   "source": [
    "# Durée en seconde\n",
    "visitDuration = df['visitDuration']\n",
    "\n",
    "# Formater en heures, minutes et secondes\n",
    "visitDurationFormatted = visitDuration.apply(lambda x: \n",
    "    f\"{(x % 86400) // 3600} heures, {(x % 3600) // 60} minutes, {x % 60} secondes\"\n",
    ")\n",
    "\n",
    "# Trier\n",
    "visitDurationFormatted = visitDurationFormatted.sort_values(ascending=False)\n",
    "\n",
    "# Afficher les 200 plus grandes durées de visite\n",
    "print(visitDurationFormatted.head(20))"
   ]
  },
  {
   "cell_type": "markdown",
   "id": "73295f07-5dac-44e9-b28b-4b39ff561f07",
   "metadata": {},
   "source": [
    "La **visitDuration** représente la durée totale d'une visite sur le site. Elle mesure le temps écoulé entre le moment où un utilisateur commence une visite et le moment où il quitte la visite."
   ]
  },
  {
   "cell_type": "markdown",
   "id": "ae6486ea-5cf7-4cff-afbf-2253f804fb1c",
   "metadata": {},
   "source": [
    "## Durée d'une action"
   ]
  },
  {
   "cell_type": "code",
   "execution_count": 224,
   "id": "5f633078-d01a-4bce-8019-7c163e77b985",
   "metadata": {},
   "outputs": [
    {
     "name": "stdout",
     "output_type": "stream",
     "text": [
      "4839    3.0 heures, 15.0 minutes, 12.0 secondes\n",
      "6833    2.0 heures, 48.0 minutes, 40.0 secondes\n",
      "5970    2.0 heures, 48.0 minutes, 40.0 secondes\n",
      "611     2.0 heures, 29.0 minutes, 27.0 secondes\n",
      "964      2.0 heures, 5.0 minutes, 19.0 secondes\n",
      "5524    1.0 heures, 47.0 minutes, 40.0 secondes\n",
      "1332     1.0 heures, 38.0 minutes, 9.0 secondes\n",
      "1348    1.0 heures, 37.0 minutes, 21.0 secondes\n",
      "4537    1.0 heures, 36.0 minutes, 39.0 secondes\n",
      "4456    1.0 heures, 36.0 minutes, 28.0 secondes\n",
      "956      1.0 heures, 35.0 minutes, 2.0 secondes\n",
      "108      1.0 heures, 32.0 minutes, 3.0 secondes\n",
      "4636    1.0 heures, 24.0 minutes, 58.0 secondes\n",
      "5248    1.0 heures, 23.0 minutes, 35.0 secondes\n",
      "734      1.0 heures, 17.0 minutes, 2.0 secondes\n",
      "2138    1.0 heures, 15.0 minutes, 36.0 secondes\n",
      "3940    1.0 heures, 15.0 minutes, 35.0 secondes\n",
      "4525    1.0 heures, 11.0 minutes, 55.0 secondes\n",
      "6088    1.0 heures, 11.0 minutes, 17.0 secondes\n",
      "6951    1.0 heures, 11.0 minutes, 17.0 secondes\n",
      "Name: totalActionDurationFormatted, dtype: object\n"
     ]
    }
   ],
   "source": [
    "# Sélectionner les colonnes des durées des actions\n",
    "colonnes_actions = [f'timeSpent (actionDetails {n})' for n in range(218)]\n",
    "\n",
    "# Calcul de la durée totale\n",
    "df['totalActionDuration'] = df[colonnes_actions].sum(axis=1)\n",
    "\n",
    "# Formater en heures, minutes et secondes\n",
    "df['totalActionDurationFormatted'] = df['totalActionDuration'].apply(lambda x: \n",
    "    f\"{(x // 3600)} heures, {(x % 3600) // 60} minutes, {x % 60} secondes\"\n",
    ")\n",
    "\n",
    "# Trier\n",
    "df_sorted = df.sort_values(by='totalActionDuration', ascending=False)\n",
    "\n",
    "# Afficher\n",
    "print(df_sorted['totalActionDurationFormatted'].head(20))"
   ]
  },
  {
   "cell_type": "markdown",
   "id": "fd671141-8712-4ac6-b3db-3883f8e474fe",
   "metadata": {},
   "source": [
    "Le tableau ci-dessus présente les 20 plus grandes durées cumulées d'actions effectuées par les utilisateurs lors de leurs visites. "
   ]
  },
  {
   "cell_type": "markdown",
   "id": "0c829401-6532-42be-aa99-c2baf9bbb203",
   "metadata": {},
   "source": [
    "## Réactivité"
   ]
  },
  {
   "cell_type": "code",
   "execution_count": 12,
   "id": "c55c7dc3-9773-4e21-8fb0-1d5712022d10",
   "metadata": {},
   "outputs": [
    {
     "name": "stdout",
     "output_type": "stream",
     "text": [
      "        fingerprint  reactivity_seconds                  reactivity_formatted\n",
      "0  2fe722984943d0d3            18148870  5041 heures, 21 minutes, 10 secondes\n",
      "1  2fe722984943d0d3            18148862   5041 heures, 21 minutes, 2 secondes\n",
      "2  bf92faa6a84e4a95            17910580   4975 heures, 9 minutes, 40 secondes\n",
      "3  bf92faa6a84e4a95            17910580   4975 heures, 9 minutes, 40 secondes\n",
      "4  88fe567870f40b28            17871328  4964 heures, 15 minutes, 28 secondes\n",
      "5  88fe567870f40b28            17871328  4964 heures, 15 minutes, 28 secondes\n",
      "6  3ecc59ea59c9118c            17603694  4889 heures, 54 minutes, 54 secondes\n",
      "7  3ecc59ea59c9118c            17603694  4889 heures, 54 minutes, 54 secondes\n",
      "8  dc65d1e994f990ea            17569818  4880 heures, 30 minutes, 18 secondes\n",
      "9  dc65d1e994f990ea            17569818  4880 heures, 30 minutes, 18 secondes\n"
     ]
    }
   ],
   "source": [
    "# Calcul\n",
    "reactivity = df['firstActionTimestamp'] - (df['serverTimestamp'] - df['secondsSinceFirstVisit'])\n",
    "\n",
    "# DataFrame avec fingerprint et réactivité\n",
    "reactivity_df = pd.DataFrame({\n",
    "    'fingerprint': df['fingerprint'],\n",
    "    'reactivity_seconds': reactivity\n",
    "})\n",
    "\n",
    "# Formater\n",
    "reactivity_df['reactivity_formatted'] = reactivity_df['reactivity_seconds'].apply(\n",
    "    lambda x: (\n",
    "        f\"-{abs(x) // 3600} heures, {(abs(x) % 3600) // 60} minutes, {abs(x) % 60} secondes\"\n",
    "        if x < 0 else\n",
    "        f\"{x // 3600} heures, {(x % 3600) // 60} minutes, {x % 60} secondes\"\n",
    "    )\n",
    ")\n",
    "\n",
    "# Trier\n",
    "reactivity_df = reactivity_df.sort_values(by='reactivity_seconds', ascending=False).reset_index(drop=True)\n",
    "\n",
    "# Afficher \n",
    "print(reactivity_df.head(10))"
   ]
  },
  {
   "cell_type": "code",
   "execution_count": 26,
   "id": "a7220427-f6d5-4d07-a9db-fcc463b8ec27",
   "metadata": {},
   "outputs": [
    {
     "data": {
      "text/html": [
       "<div>\n",
       "<style scoped>\n",
       "    .dataframe tbody tr th:only-of-type {\n",
       "        vertical-align: middle;\n",
       "    }\n",
       "\n",
       "    .dataframe tbody tr th {\n",
       "        vertical-align: top;\n",
       "    }\n",
       "\n",
       "    .dataframe thead th {\n",
       "        text-align: right;\n",
       "    }\n",
       "</style>\n",
       "<table border=\"1\" class=\"dataframe\">\n",
       "  <thead>\n",
       "    <tr style=\"text-align: right;\">\n",
       "      <th></th>\n",
       "      <th>fingerprint</th>\n",
       "      <th>reactivity</th>\n",
       "      <th>reactivity_formatted</th>\n",
       "    </tr>\n",
       "  </thead>\n",
       "  <tbody>\n",
       "    <tr>\n",
       "      <th>0</th>\n",
       "      <td>da53cf6a68bf2e7a</td>\n",
       "      <td>-2290</td>\n",
       "      <td>Valeur négative</td>\n",
       "    </tr>\n",
       "    <tr>\n",
       "      <th>1</th>\n",
       "      <td>71e4892e3144be1c</td>\n",
       "      <td>-231</td>\n",
       "      <td>Valeur négative</td>\n",
       "    </tr>\n",
       "    <tr>\n",
       "      <th>2</th>\n",
       "      <td>b4cb0000d7eb51d0</td>\n",
       "      <td>-152</td>\n",
       "      <td>Valeur négative</td>\n",
       "    </tr>\n",
       "    <tr>\n",
       "      <th>3</th>\n",
       "      <td>a7830aed8095d0bc</td>\n",
       "      <td>-103</td>\n",
       "      <td>Valeur négative</td>\n",
       "    </tr>\n",
       "    <tr>\n",
       "      <th>4</th>\n",
       "      <td>11ba5b89b2d04093</td>\n",
       "      <td>5</td>\n",
       "      <td>0 heures, 0 minutes, 5 secondes</td>\n",
       "    </tr>\n",
       "    <tr>\n",
       "      <th>...</th>\n",
       "      <td>...</td>\n",
       "      <td>...</td>\n",
       "      <td>...</td>\n",
       "    </tr>\n",
       "    <tr>\n",
       "      <th>95</th>\n",
       "      <td>f29c38d1aceff80f</td>\n",
       "      <td>2358</td>\n",
       "      <td>0 heures, 39 minutes, 18 secondes</td>\n",
       "    </tr>\n",
       "    <tr>\n",
       "      <th>96</th>\n",
       "      <td>6264b742dcdd5bac</td>\n",
       "      <td>2381</td>\n",
       "      <td>0 heures, 39 minutes, 41 secondes</td>\n",
       "    </tr>\n",
       "    <tr>\n",
       "      <th>97</th>\n",
       "      <td>8dfdc753da6ef09b</td>\n",
       "      <td>2405</td>\n",
       "      <td>0 heures, 40 minutes, 5 secondes</td>\n",
       "    </tr>\n",
       "    <tr>\n",
       "      <th>98</th>\n",
       "      <td>cbc70c00acec6c8a</td>\n",
       "      <td>2419</td>\n",
       "      <td>0 heures, 40 minutes, 19 secondes</td>\n",
       "    </tr>\n",
       "    <tr>\n",
       "      <th>99</th>\n",
       "      <td>2480167c83f5693d</td>\n",
       "      <td>2420</td>\n",
       "      <td>0 heures, 40 minutes, 20 secondes</td>\n",
       "    </tr>\n",
       "  </tbody>\n",
       "</table>\n",
       "<p>100 rows × 3 columns</p>\n",
       "</div>"
      ],
      "text/plain": [
       "         fingerprint  reactivity               reactivity_formatted\n",
       "0   da53cf6a68bf2e7a       -2290                    Valeur négative\n",
       "1   71e4892e3144be1c        -231                    Valeur négative\n",
       "2   b4cb0000d7eb51d0        -152                    Valeur négative\n",
       "3   a7830aed8095d0bc        -103                    Valeur négative\n",
       "4   11ba5b89b2d04093           5    0 heures, 0 minutes, 5 secondes\n",
       "..               ...         ...                                ...\n",
       "95  f29c38d1aceff80f        2358  0 heures, 39 minutes, 18 secondes\n",
       "96  6264b742dcdd5bac        2381  0 heures, 39 minutes, 41 secondes\n",
       "97  8dfdc753da6ef09b        2405   0 heures, 40 minutes, 5 secondes\n",
       "98  cbc70c00acec6c8a        2419  0 heures, 40 minutes, 19 secondes\n",
       "99  2480167c83f5693d        2420  0 heures, 40 minutes, 20 secondes\n",
       "\n",
       "[100 rows x 3 columns]"
      ]
     },
     "execution_count": 26,
     "metadata": {},
     "output_type": "execute_result"
    }
   ],
   "source": [
    "# Calcul début visite \n",
    "visit_start_time = df['serverTimestamp'] - df['secondsSinceFirstVisit']\n",
    "\n",
    "# Calcul de la réactivité\n",
    "reactivity_v2 = df['timestamp (actionDetails 0)'] - visit_start_time\n",
    "\n",
    "# Formater\n",
    "reactivity_formatted = reactivity_v2.apply(lambda x: \n",
    "    f\"{x // 3600} heures, {(x % 3600) // 60} minutes, {x % 60} secondes\" if x >= 0 else \"Valeur négative\")\n",
    "\n",
    "# Affichage pour chaque individu\n",
    "reactivity_df = df[['fingerprint']].copy()  # Conserver uniquement le fingerprint pour identifier l'individu\n",
    "reactivity_df['reactivity'] = reactivity\n",
    "reactivity_df['reactivity_formatted'] = reactivity_formatted\n",
    "\n",
    "# Trier \n",
    "reactivity_df = reactivity_df.sort_values(by='reactivity', ascending=True).reset_index(drop=True)\n",
    "\n",
    "# Afficher\n",
    "reactivity_df.head(100)"
   ]
  },
  {
   "cell_type": "markdown",
   "id": "4d5cc182-1003-4438-ae11-6d33ccbf07d9",
   "metadata": {},
   "source": [
    "Le délai entre le début de la visite d'un utilisateur et sa première action effectuée sur le site."
   ]
  },
  {
   "cell_type": "markdown",
   "id": "f97878df-c200-4347-a6d6-eb2b49573c1f",
   "metadata": {},
   "source": [
    "## Récence"
   ]
  },
  {
   "cell_type": "code",
   "execution_count": 50,
   "id": "b652a239-5b34-400f-955c-f9ba5da1da1a",
   "metadata": {},
   "outputs": [
    {
     "name": "stdout",
     "output_type": "stream",
     "text": [
      "           fingerprint                      recencyFormatted\n",
      "1262  dd21ec50d336e731   3623 heures, 11 minutes, 4 secondes\n",
      "4088  8f6f5408833027c0   3115 heures, 1 minutes, 31 secondes\n",
      "527   7d32f5c84f899177   3050 heures, 3 minutes, 42 secondes\n",
      "325   6b177dd034163f19  2918 heures, 59 minutes, 29 secondes\n",
      "1078  45e1836cc398cca6  2906 heures, 18 minutes, 46 secondes\n",
      "731   e9e32e91308d4beb  2809 heures, 32 minutes, 27 secondes\n",
      "840   4af0eae4e9a08443   2695 heures, 8 minutes, 32 secondes\n",
      "412   840f6688772d816d   2650 heures, 8 minutes, 57 secondes\n",
      "701   c85ff6b95f241e3f   2495 heures, 8 minutes, 44 secondes\n",
      "743   53fe169dbb09de90    2488 heures, 0 minutes, 6 secondes\n",
      "           fingerprint                recencyFormatted_v2\n",
      "22    e11f4b166e9d44a8    0 heures, 0 minutes, 0 secondes\n",
      "116   e6ec957f3d08495a    0 heures, 0 minutes, 0 secondes\n",
      "118   9aeb0ce375029ea7    0 heures, 0 minutes, 0 secondes\n",
      "119   c58795c1fa9077d5    0 heures, 0 minutes, 0 secondes\n",
      "121   076a378ba0783636    0 heures, 0 minutes, 0 secondes\n",
      "...                ...                                ...\n",
      "3338  f35e26df0844156b  2 heures, 32 minutes, 32 secondes\n",
      "149   aba1f9f6da597a90  2 heures, 32 minutes, 47 secondes\n",
      "2294  00674887279cf675  2 heures, 33 minutes, 12 secondes\n",
      "3647  3b5c28fb11ccfa1a  2 heures, 33 minutes, 20 secondes\n",
      "3426  47e110355e742e9c  2 heures, 33 minutes, 26 secondes\n",
      "\n",
      "[3000 rows x 2 columns]\n"
     ]
    }
   ],
   "source": [
    "# Calcul de la récence en secondes\n",
    "recency = df['lastActionTimestamp'] - (df['serverTimestamp'] - df['secondsSinceLastVisit'])\n",
    "\n",
    "# Formater la récence en heures, minutes, secondes\n",
    "recency_formatted = recency.apply(lambda x: f\"{(x // 3600)} heures, {(x % 3600) // 60} minutes, {x % 60} secondes\")\n",
    "\n",
    "recency_formatted_v2 = recency.apply(lambda x: f\"{(x // 3600)} heures, {(x % 3600) // 60} minutes, {x % 60} secondes\")\n",
    "\n",
    "# Affichage des résultats triés par récence décroissante\n",
    "df_sorted_recency = df.assign(recency=recency, recencyFormatted=recency_formatted).sort_values(by='recency', ascending=False)\n",
    "\n",
    "df_sorted_recency_v2 = df.assign(recency=recency, recencyFormatted_v2=recency_formatted_v2).sort_values(by='recency', ascending=True)\n",
    "\n",
    "# Affichage des 10 premiers résultats\n",
    "print(df_sorted_recency[['fingerprint', 'recencyFormatted']].head(10))\n",
    "\n",
    "print(df_sorted_recency_v2[['fingerprint', 'recencyFormatted_v2']].head(3000))"
   ]
  },
  {
   "cell_type": "markdown",
   "id": "48608bab-9085-4c00-888b-11ad2bb689b9",
   "metadata": {},
   "source": [
    "Temps écoulé entre la dernière action effectuée par un utilisateur et sa dernière visite sur le site"
   ]
  },
  {
   "cell_type": "markdown",
   "id": "21905992-79a6-4ce1-ae6a-84e8073199c6",
   "metadata": {},
   "source": [
    "## Concentration"
   ]
  },
  {
   "cell_type": "code",
   "execution_count": 76,
   "id": "68df485c-3254-42a5-9f6d-42ea6bf8f3f4",
   "metadata": {},
   "outputs": [
    {
     "name": "stdout",
     "output_type": "stream",
     "text": [
      "           fingerprint                     concentrationFormatted\n",
      "2750  411104f08748c5c6   -41.0 heures, 47.0 minutes, 6.0 secondes\n",
      "2036  1ed4d003ad96cbb5  -25.0 heures, 21.0 minutes, 44.0 secondes\n",
      "984   a4be0995c5323d8c  -13.0 heures, 55.0 minutes, 15.0 secondes\n",
      "3142  66c9eabb2e9aeb7e   -11.0 heures, 5.0 minutes, 29.0 secondes\n",
      "5404  e7995e4655cd58a2   -10.0 heures, 8.0 minutes, 50.0 secondes\n",
      "...                ...                                        ...\n",
      "2125  9523593fe56b76db     0.0 heures, 2.0 minutes, 57.0 secondes\n",
      "5608  afbfab431ff8fcd6     0.0 heures, 2.0 minutes, 58.0 secondes\n",
      "1636  9dbd499ffa3eca40      0.0 heures, 3.0 minutes, 0.0 secondes\n",
      "1648  a5440da2fb0184ca      0.0 heures, 3.0 minutes, 0.0 secondes\n",
      "2330  99d2ea44f33c195d      0.0 heures, 3.0 minutes, 6.0 secondes\n",
      "\n",
      "[600 rows x 2 columns]\n"
     ]
    }
   ],
   "source": [
    "# Calcul\n",
    "concentration = (reactivity + recency) - df['pageLoadTimeMilliseconds (actionDetails 0)']\n",
    "\n",
    "# Formater\n",
    "concentration_formatted = concentration.apply(lambda x: f\"{(x // 3600)} heures, {(x % 3600) // 60} minutes, {x % 60} secondes\")\n",
    "\n",
    "# Affichage\n",
    "df_sorted_concentration = df.assign(concentration=concentration, concentrationFormatted=concentration_formatted).sort_values(by='concentration', ascending=True)\n",
    "\n",
    "# Affichage\n",
    "print(df_sorted_concentration[['fingerprint', 'concentrationFormatted']].head(600))\n"
   ]
  }
 ],
 "metadata": {
  "kernelspec": {
   "display_name": "Python 3 (ipykernel)",
   "language": "python",
   "name": "python3"
  },
  "language_info": {
   "codemirror_mode": {
    "name": "ipython",
    "version": 3
   },
   "file_extension": ".py",
   "mimetype": "text/x-python",
   "name": "python",
   "nbconvert_exporter": "python",
   "pygments_lexer": "ipython3",
   "version": "3.12.4"
  }
 },
 "nbformat": 4,
 "nbformat_minor": 5
}
